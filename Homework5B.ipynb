{
  "nbformat": 4,
  "nbformat_minor": 0,
  "metadata": {
    "colab": {
      "provenance": [],
      "toc_visible": true,
      "authorship_tag": "ABX9TyOheoS/+hgEWg65/piqmQk1"
    },
    "kernelspec": {
      "name": "python3",
      "display_name": "Python 3"
    },
    "language_info": {
      "name": "python"
    },
    "widgets": {
      "application/vnd.jupyter.widget-state+json": {
        "01fceef239ea400da5d9d780bb635bb3": {
          "model_module": "ipydatagrid",
          "model_name": "DataGridModel",
          "model_module_version": "^1.4.0",
          "state": {
            "_data": {
              "data": {
                "key": {
                  "dtype": "int32",
                  "shape": [
                    5
                  ],
                  "type": null
                },
                "Temperature (degC)": {
                  "dtype": "float64",
                  "shape": [
                    5
                  ],
                  "type": null
                },
                "VaP (bar)": {
                  "dtype": "float64",
                  "shape": [
                    5
                  ],
                  "type": null
                },
                "L (kJ/mol)": {
                  "dtype": "float64",
                  "shape": [
                    5
                  ],
                  "type": null
                },
                "ipydguuid": {
                  "dtype": "int32",
                  "shape": [
                    5
                  ],
                  "type": null
                }
              },
              "schema": {
                "fields": [
                  {
                    "name": "key",
                    "type": "integer"
                  },
                  {
                    "name": "Temperature (degC)",
                    "type": "number"
                  },
                  {
                    "name": "VaP (bar)",
                    "type": "number"
                  },
                  {
                    "name": "L (kJ/mol)",
                    "type": "number"
                  },
                  {
                    "name": "ipydguuid",
                    "type": "integer"
                  }
                ],
                "primaryKey": [
                  "key",
                  "ipydguuid"
                ],
                "pandas_version": "1.4.0",
                "primaryKeyUuid": "ipydguuid"
              },
              "fields": [
                {
                  "key": "$NaN$"
                },
                {
                  "Temperature (degC)": "$NaN$"
                },
                {
                  "VaP (bar)": "$NaN$"
                },
                {
                  "L (kJ/mol)": "$NaN$"
                },
                {
                  "ipydguuid": "$NaN$"
                }
              ]
            },
            "_dom_classes": [],
            "_model_module": "ipydatagrid",
            "_model_module_version": "^1.4.0",
            "_model_name": "DataGridModel",
            "_transforms": [],
            "_view_count": null,
            "_view_module": "ipydatagrid",
            "_view_module_version": "^1.4.0",
            "_view_name": "DataGridView",
            "_visible_rows": [],
            "auto_fit_columns": true,
            "auto_fit_params": {
              "area": "all",
              "padding": 30,
              "numCols": null
            },
            "base_column_header_size": 20,
            "base_column_size": 64,
            "base_row_header_size": 64,
            "base_row_size": 20,
            "column_widths": {},
            "corner_renderer": null,
            "default_renderer": "IPY_MODEL_a1ec63775f7f43f6a16d1f78da6ff26c",
            "editable": true,
            "grid_style": {},
            "header_renderer": null,
            "header_visibility": "column",
            "horizontal_stripes": false,
            "layout": "IPY_MODEL_29bf8ffea01d4bd8a34ee5453a18b532",
            "renderers": {},
            "selection_mode": "row",
            "selections": [],
            "vertical_stripes": false
          }
        },
        "a1ec63775f7f43f6a16d1f78da6ff26c": {
          "model_module": "ipydatagrid",
          "model_name": "TextRendererModel",
          "model_module_version": "^1.4.0",
          "state": {
            "_model_module": "ipydatagrid",
            "_model_module_version": "^1.4.0",
            "_model_name": "TextRendererModel",
            "_view_count": null,
            "_view_module": "ipydatagrid",
            "_view_module_version": "^1.4.0",
            "_view_name": "TextRendererView",
            "background_color": "IPY_MODEL_ba04d9f12c1745e1b48f8a2daa1be5f1",
            "font": "12px sans-serif",
            "format": null,
            "format_type": "number",
            "horizontal_alignment": "left",
            "missing": "",
            "text_color": "IPY_MODEL_6829db8875874b2aba87de8c23c52167",
            "text_elide_direction": "right",
            "text_value": null,
            "text_wrap": false,
            "vertical_alignment": "center"
          }
        },
        "d22f3c777d66480cb62a12e7e932ad0a": {
          "model_module": "@jupyter-widgets/base",
          "model_name": "LayoutModel",
          "model_module_version": "1.2.0",
          "state": {
            "_model_module": "@jupyter-widgets/base",
            "_model_module_version": "1.2.0",
            "_model_name": "LayoutModel",
            "_view_count": null,
            "_view_module": "@jupyter-widgets/base",
            "_view_module_version": "1.2.0",
            "_view_name": "LayoutView",
            "align_content": null,
            "align_items": null,
            "align_self": null,
            "border": null,
            "bottom": null,
            "display": null,
            "flex": null,
            "flex_flow": null,
            "grid_area": null,
            "grid_auto_columns": null,
            "grid_auto_flow": null,
            "grid_auto_rows": null,
            "grid_column": null,
            "grid_gap": null,
            "grid_row": null,
            "grid_template_areas": null,
            "grid_template_columns": null,
            "grid_template_rows": null,
            "height": "0px",
            "justify_content": null,
            "justify_items": null,
            "left": null,
            "margin": null,
            "max_height": null,
            "max_width": null,
            "min_height": null,
            "min_width": null,
            "object_fit": null,
            "object_position": null,
            "order": null,
            "overflow": null,
            "overflow_x": null,
            "overflow_y": null,
            "padding": null,
            "right": null,
            "top": null,
            "visibility": null,
            "width": null
          }
        },
        "ba04d9f12c1745e1b48f8a2daa1be5f1": {
          "model_module": "ipydatagrid",
          "model_name": "VegaExprModel",
          "model_module_version": "^1.4.0",
          "state": {
            "_model_module": "ipydatagrid",
            "_model_module_version": "^1.4.0",
            "_model_name": "VegaExprModel",
            "_view_count": null,
            "_view_module": "ipydatagrid",
            "_view_module_version": "^1.4.0",
            "_view_name": "VegaExprView",
            "value": "default_value"
          }
        },
        "6829db8875874b2aba87de8c23c52167": {
          "model_module": "ipydatagrid",
          "model_name": "VegaExprModel",
          "model_module_version": "^1.4.0",
          "state": {
            "_model_module": "ipydatagrid",
            "_model_module_version": "^1.4.0",
            "_model_name": "VegaExprModel",
            "_view_count": null,
            "_view_module": "ipydatagrid",
            "_view_module_version": "^1.4.0",
            "_view_name": "VegaExprView",
            "value": "default_value"
          }
        },
        "29bf8ffea01d4bd8a34ee5453a18b532": {
          "model_module": "@jupyter-widgets/base",
          "model_name": "LayoutModel",
          "model_module_version": "1.2.0",
          "state": {
            "_model_module": "@jupyter-widgets/base",
            "_model_module_version": "1.2.0",
            "_model_name": "LayoutModel",
            "_view_count": null,
            "_view_module": "@jupyter-widgets/base",
            "_view_module_version": "1.2.0",
            "_view_name": "LayoutView",
            "align_content": null,
            "align_items": null,
            "align_self": null,
            "border": null,
            "bottom": null,
            "display": null,
            "flex": null,
            "flex_flow": null,
            "grid_area": null,
            "grid_auto_columns": null,
            "grid_auto_flow": null,
            "grid_auto_rows": null,
            "grid_column": null,
            "grid_gap": null,
            "grid_row": null,
            "grid_template_areas": null,
            "grid_template_columns": null,
            "grid_template_rows": null,
            "height": "0px",
            "justify_content": null,
            "justify_items": null,
            "left": null,
            "margin": null,
            "max_height": null,
            "max_width": null,
            "min_height": null,
            "min_width": null,
            "object_fit": null,
            "object_position": null,
            "order": null,
            "overflow": null,
            "overflow_x": null,
            "overflow_y": null,
            "padding": null,
            "right": null,
            "top": null,
            "visibility": null,
            "width": null
          }
        }
      }
    }
  },
  "cells": [
    {
      "cell_type": "code",
      "execution_count": 1,
      "metadata": {
        "id": "HeUVfk1MVTBu"
      },
      "outputs": [],
      "source": [
        "!pip install whit-phys-util 1>/dev/null"
      ]
    },
    {
      "cell_type": "code",
      "source": [
        "import numpy as np\n",
        "import scipy.constants\n",
        "import math\n",
        "import pandas as pd\n",
        "import matplotlib.pyplot as plt\n",
        "import whit_phys_util as buc\n",
        "from scipy.special import comb\n",
        "from scipy.optimize import curve_fit"
      ],
      "metadata": {
        "id": "SfDRFopdVdmZ"
      },
      "execution_count": 2,
      "outputs": []
    },
    {
      "cell_type": "code",
      "source": [
        "repo = buc.local_repository(\"https://github.com/nyary-ben/Homework-5B\")"
      ],
      "metadata": {
        "colab": {
          "base_uri": "https://localhost:8080/"
        },
        "id": "rLmDMqsxVems",
        "outputId": "4e4a779b-0805-4df6-fcd8-973232142028"
      },
      "execution_count": 3,
      "outputs": [
        {
          "output_type": "stream",
          "name": "stdout",
          "text": [
            "Repository exists at this location. Pulling changes from GitHub.\n"
          ]
        }
      ]
    },
    {
      "cell_type": "markdown",
      "source": [
        "# Homework 5B 5.42a)"
      ],
      "metadata": {
        "id": "MZ1LojMoVuNK"
      }
    },
    {
      "cell_type": "markdown",
      "source": [
        "\n",
        "* We know that $\\frac{dP}{dT} = \\frac{LP}{RT^2}$.\n",
        "* As we rearrange for all T on one side and P on the other, we can integrate both sides and get $\\ln{P} = -\\frac{L}{RT}+C$.\n",
        "* So $P = Ce^{-\\frac{L}{RT}}$.\n",
        "\n",
        "* I will use the data from the book on figure 11 to plot the graph and fit its best fit curve using the vapor pressure equation."
      ],
      "metadata": {
        "id": "3Nu645saWZ9Q"
      }
    },
    {
      "cell_type": "code",
      "source": [
        "de1 = buc.DynamicDataEntry('H20 Phase data',['Temperature (degC)','VaP (bar)','L (kJ/mol)'],(0,3,1))\n",
        "de1.edit_sheet()"
      ],
      "metadata": {
        "colab": {
          "base_uri": "https://localhost:8080/",
          "height": 17,
          "referenced_widgets": [
            "01fceef239ea400da5d9d780bb635bb3",
            "a1ec63775f7f43f6a16d1f78da6ff26c",
            "d22f3c777d66480cb62a12e7e932ad0a",
            "ba04d9f12c1745e1b48f8a2daa1be5f1",
            "6829db8875874b2aba87de8c23c52167",
            "29bf8ffea01d4bd8a34ee5453a18b532"
          ]
        },
        "id": "uG-LLw9jV0Yu",
        "outputId": "2a7b6f1b-0dec-4d58-f373-447a57542081"
      },
      "execution_count": 4,
      "outputs": [
        {
          "output_type": "display_data",
          "data": {
            "text/plain": [
              "DataGrid(auto_fit_columns=True, auto_fit_params={'area': 'all', 'padding': 30, 'numCols': None}, corner_render…"
            ],
            "application/vnd.jupyter.widget-view+json": {
              "version_major": 2,
              "version_minor": 0,
              "model_id": "01fceef239ea400da5d9d780bb635bb3"
            }
          },
          "metadata": {
            "application/vnd.jupyter.widget-view+json": {
              "colab": {
                "custom_widget_manager": {
                  "url": "https://ssl.gstatic.com/colaboratory-static/widgets/colab-cdn-widget-manager/2b70e893a8ba7c0f/manager.min.js"
                }
              }
            }
          }
        }
      ]
    },
    {
      "cell_type": "code",
      "source": [
        "de1.save()"
      ],
      "metadata": {
        "id": "rf_WZqGDmfXK"
      },
      "execution_count": 5,
      "outputs": []
    },
    {
      "cell_type": "code",
      "source": [
        "df = de1.get_dataframe()"
      ],
      "metadata": {
        "id": "O3Ts7oga6xxg"
      },
      "execution_count": 6,
      "outputs": []
    },
    {
      "cell_type": "code",
      "source": [
        "def VaP(T,L,a):\n",
        "    return a * np.exp(-L / (scipy.constants.R * T))\n",
        "T = df['Temperature (degC)']+273\n",
        "P = df['VaP (bar)']*100000\n",
        "L = df['L (kJ/mol)']*1000\n",
        "\n",
        "#def Le(T,P,a):\n",
        "  #return (scipy.constants.R * T) * (np.log(a)- np.log(P))\n",
        "\n",
        "\n",
        "VaPparam, cov = curve_fit(VaP, T, P)\n",
        "Lparam, cov = curve_fit(VaP, T, L)\n",
        "\n",
        "t_fit = np.linspace(273, 373, 200)\n",
        "p_fit = VaP(t_fit, *VaPparam)\n",
        "l_fit = VaP(t_fit, *Lparam)\n",
        "\n",
        "\n",
        "df1 = pd.DataFrame({'Temperature (degC)': t_fit, 'VaP (Pa)': p_fit, 'L (j/mol)': l_fit})\n",
        "selectedRows = [58,59,60,61,62]\n",
        "df1.loc[selectedRows,:]\n"
      ],
      "metadata": {
        "colab": {
          "base_uri": "https://localhost:8080/",
          "height": 206
        },
        "id": "2wLXYxzm1cwd",
        "outputId": "9560344d-5f8f-4f28-d3be-14de59102990"
      },
      "execution_count": 7,
      "outputs": [
        {
          "output_type": "execute_result",
          "data": {
            "text/plain": [
              "    Temperature (degC)     VaP (Pa)     L (j/mol)\n",
              "58          302.145729  4140.220770  44784.101385\n",
              "59          302.648241  4257.562136  44741.032024\n",
              "60          303.150754  4377.823528  44698.146663\n",
              "61          303.653266  4501.066899  44655.444147\n",
              "62          304.155779  4627.355268  44612.923327"
            ],
            "text/html": [
              "\n",
              "  <div id=\"df-af8b075f-acb2-4ef6-9ac7-9621353b3a82\" class=\"colab-df-container\">\n",
              "    <div>\n",
              "<style scoped>\n",
              "    .dataframe tbody tr th:only-of-type {\n",
              "        vertical-align: middle;\n",
              "    }\n",
              "\n",
              "    .dataframe tbody tr th {\n",
              "        vertical-align: top;\n",
              "    }\n",
              "\n",
              "    .dataframe thead th {\n",
              "        text-align: right;\n",
              "    }\n",
              "</style>\n",
              "<table border=\"1\" class=\"dataframe\">\n",
              "  <thead>\n",
              "    <tr style=\"text-align: right;\">\n",
              "      <th></th>\n",
              "      <th>Temperature (degC)</th>\n",
              "      <th>VaP (Pa)</th>\n",
              "      <th>L (j/mol)</th>\n",
              "    </tr>\n",
              "  </thead>\n",
              "  <tbody>\n",
              "    <tr>\n",
              "      <th>58</th>\n",
              "      <td>302.145729</td>\n",
              "      <td>4140.220770</td>\n",
              "      <td>44784.101385</td>\n",
              "    </tr>\n",
              "    <tr>\n",
              "      <th>59</th>\n",
              "      <td>302.648241</td>\n",
              "      <td>4257.562136</td>\n",
              "      <td>44741.032024</td>\n",
              "    </tr>\n",
              "    <tr>\n",
              "      <th>60</th>\n",
              "      <td>303.150754</td>\n",
              "      <td>4377.823528</td>\n",
              "      <td>44698.146663</td>\n",
              "    </tr>\n",
              "    <tr>\n",
              "      <th>61</th>\n",
              "      <td>303.653266</td>\n",
              "      <td>4501.066899</td>\n",
              "      <td>44655.444147</td>\n",
              "    </tr>\n",
              "    <tr>\n",
              "      <th>62</th>\n",
              "      <td>304.155779</td>\n",
              "      <td>4627.355268</td>\n",
              "      <td>44612.923327</td>\n",
              "    </tr>\n",
              "  </tbody>\n",
              "</table>\n",
              "</div>\n",
              "    <div class=\"colab-df-buttons\">\n",
              "\n",
              "  <div class=\"colab-df-container\">\n",
              "    <button class=\"colab-df-convert\" onclick=\"convertToInteractive('df-af8b075f-acb2-4ef6-9ac7-9621353b3a82')\"\n",
              "            title=\"Convert this dataframe to an interactive table.\"\n",
              "            style=\"display:none;\">\n",
              "\n",
              "  <svg xmlns=\"http://www.w3.org/2000/svg\" height=\"24px\" viewBox=\"0 -960 960 960\">\n",
              "    <path d=\"M120-120v-720h720v720H120Zm60-500h600v-160H180v160Zm220 220h160v-160H400v160Zm0 220h160v-160H400v160ZM180-400h160v-160H180v160Zm440 0h160v-160H620v160ZM180-180h160v-160H180v160Zm440 0h160v-160H620v160Z\"/>\n",
              "  </svg>\n",
              "    </button>\n",
              "\n",
              "  <style>\n",
              "    .colab-df-container {\n",
              "      display:flex;\n",
              "      gap: 12px;\n",
              "    }\n",
              "\n",
              "    .colab-df-convert {\n",
              "      background-color: #E8F0FE;\n",
              "      border: none;\n",
              "      border-radius: 50%;\n",
              "      cursor: pointer;\n",
              "      display: none;\n",
              "      fill: #1967D2;\n",
              "      height: 32px;\n",
              "      padding: 0 0 0 0;\n",
              "      width: 32px;\n",
              "    }\n",
              "\n",
              "    .colab-df-convert:hover {\n",
              "      background-color: #E2EBFA;\n",
              "      box-shadow: 0px 1px 2px rgba(60, 64, 67, 0.3), 0px 1px 3px 1px rgba(60, 64, 67, 0.15);\n",
              "      fill: #174EA6;\n",
              "    }\n",
              "\n",
              "    .colab-df-buttons div {\n",
              "      margin-bottom: 4px;\n",
              "    }\n",
              "\n",
              "    [theme=dark] .colab-df-convert {\n",
              "      background-color: #3B4455;\n",
              "      fill: #D2E3FC;\n",
              "    }\n",
              "\n",
              "    [theme=dark] .colab-df-convert:hover {\n",
              "      background-color: #434B5C;\n",
              "      box-shadow: 0px 1px 3px 1px rgba(0, 0, 0, 0.15);\n",
              "      filter: drop-shadow(0px 1px 2px rgba(0, 0, 0, 0.3));\n",
              "      fill: #FFFFFF;\n",
              "    }\n",
              "  </style>\n",
              "\n",
              "    <script>\n",
              "      const buttonEl =\n",
              "        document.querySelector('#df-af8b075f-acb2-4ef6-9ac7-9621353b3a82 button.colab-df-convert');\n",
              "      buttonEl.style.display =\n",
              "        google.colab.kernel.accessAllowed ? 'block' : 'none';\n",
              "\n",
              "      async function convertToInteractive(key) {\n",
              "        const element = document.querySelector('#df-af8b075f-acb2-4ef6-9ac7-9621353b3a82');\n",
              "        const dataTable =\n",
              "          await google.colab.kernel.invokeFunction('convertToInteractive',\n",
              "                                                    [key], {});\n",
              "        if (!dataTable) return;\n",
              "\n",
              "        const docLinkHtml = 'Like what you see? Visit the ' +\n",
              "          '<a target=\"_blank\" href=https://colab.research.google.com/notebooks/data_table.ipynb>data table notebook</a>'\n",
              "          + ' to learn more about interactive tables.';\n",
              "        element.innerHTML = '';\n",
              "        dataTable['output_type'] = 'display_data';\n",
              "        await google.colab.output.renderOutput(dataTable, element);\n",
              "        const docLink = document.createElement('div');\n",
              "        docLink.innerHTML = docLinkHtml;\n",
              "        element.appendChild(docLink);\n",
              "      }\n",
              "    </script>\n",
              "  </div>\n",
              "\n",
              "\n",
              "<div id=\"df-864f9995-824a-43e8-a768-948426b022b4\">\n",
              "  <button class=\"colab-df-quickchart\" onclick=\"quickchart('df-864f9995-824a-43e8-a768-948426b022b4')\"\n",
              "            title=\"Suggest charts\"\n",
              "            style=\"display:none;\">\n",
              "\n",
              "<svg xmlns=\"http://www.w3.org/2000/svg\" height=\"24px\"viewBox=\"0 0 24 24\"\n",
              "     width=\"24px\">\n",
              "    <g>\n",
              "        <path d=\"M19 3H5c-1.1 0-2 .9-2 2v14c0 1.1.9 2 2 2h14c1.1 0 2-.9 2-2V5c0-1.1-.9-2-2-2zM9 17H7v-7h2v7zm4 0h-2V7h2v10zm4 0h-2v-4h2v4z\"/>\n",
              "    </g>\n",
              "</svg>\n",
              "  </button>\n",
              "\n",
              "<style>\n",
              "  .colab-df-quickchart {\n",
              "      --bg-color: #E8F0FE;\n",
              "      --fill-color: #1967D2;\n",
              "      --hover-bg-color: #E2EBFA;\n",
              "      --hover-fill-color: #174EA6;\n",
              "      --disabled-fill-color: #AAA;\n",
              "      --disabled-bg-color: #DDD;\n",
              "  }\n",
              "\n",
              "  [theme=dark] .colab-df-quickchart {\n",
              "      --bg-color: #3B4455;\n",
              "      --fill-color: #D2E3FC;\n",
              "      --hover-bg-color: #434B5C;\n",
              "      --hover-fill-color: #FFFFFF;\n",
              "      --disabled-bg-color: #3B4455;\n",
              "      --disabled-fill-color: #666;\n",
              "  }\n",
              "\n",
              "  .colab-df-quickchart {\n",
              "    background-color: var(--bg-color);\n",
              "    border: none;\n",
              "    border-radius: 50%;\n",
              "    cursor: pointer;\n",
              "    display: none;\n",
              "    fill: var(--fill-color);\n",
              "    height: 32px;\n",
              "    padding: 0;\n",
              "    width: 32px;\n",
              "  }\n",
              "\n",
              "  .colab-df-quickchart:hover {\n",
              "    background-color: var(--hover-bg-color);\n",
              "    box-shadow: 0 1px 2px rgba(60, 64, 67, 0.3), 0 1px 3px 1px rgba(60, 64, 67, 0.15);\n",
              "    fill: var(--button-hover-fill-color);\n",
              "  }\n",
              "\n",
              "  .colab-df-quickchart-complete:disabled,\n",
              "  .colab-df-quickchart-complete:disabled:hover {\n",
              "    background-color: var(--disabled-bg-color);\n",
              "    fill: var(--disabled-fill-color);\n",
              "    box-shadow: none;\n",
              "  }\n",
              "\n",
              "  .colab-df-spinner {\n",
              "    border: 2px solid var(--fill-color);\n",
              "    border-color: transparent;\n",
              "    border-bottom-color: var(--fill-color);\n",
              "    animation:\n",
              "      spin 1s steps(1) infinite;\n",
              "  }\n",
              "\n",
              "  @keyframes spin {\n",
              "    0% {\n",
              "      border-color: transparent;\n",
              "      border-bottom-color: var(--fill-color);\n",
              "      border-left-color: var(--fill-color);\n",
              "    }\n",
              "    20% {\n",
              "      border-color: transparent;\n",
              "      border-left-color: var(--fill-color);\n",
              "      border-top-color: var(--fill-color);\n",
              "    }\n",
              "    30% {\n",
              "      border-color: transparent;\n",
              "      border-left-color: var(--fill-color);\n",
              "      border-top-color: var(--fill-color);\n",
              "      border-right-color: var(--fill-color);\n",
              "    }\n",
              "    40% {\n",
              "      border-color: transparent;\n",
              "      border-right-color: var(--fill-color);\n",
              "      border-top-color: var(--fill-color);\n",
              "    }\n",
              "    60% {\n",
              "      border-color: transparent;\n",
              "      border-right-color: var(--fill-color);\n",
              "    }\n",
              "    80% {\n",
              "      border-color: transparent;\n",
              "      border-right-color: var(--fill-color);\n",
              "      border-bottom-color: var(--fill-color);\n",
              "    }\n",
              "    90% {\n",
              "      border-color: transparent;\n",
              "      border-bottom-color: var(--fill-color);\n",
              "    }\n",
              "  }\n",
              "</style>\n",
              "\n",
              "  <script>\n",
              "    async function quickchart(key) {\n",
              "      const quickchartButtonEl =\n",
              "        document.querySelector('#' + key + ' button');\n",
              "      quickchartButtonEl.disabled = true;  // To prevent multiple clicks.\n",
              "      quickchartButtonEl.classList.add('colab-df-spinner');\n",
              "      try {\n",
              "        const charts = await google.colab.kernel.invokeFunction(\n",
              "            'suggestCharts', [key], {});\n",
              "      } catch (error) {\n",
              "        console.error('Error during call to suggestCharts:', error);\n",
              "      }\n",
              "      quickchartButtonEl.classList.remove('colab-df-spinner');\n",
              "      quickchartButtonEl.classList.add('colab-df-quickchart-complete');\n",
              "    }\n",
              "    (() => {\n",
              "      let quickchartButtonEl =\n",
              "        document.querySelector('#df-864f9995-824a-43e8-a768-948426b022b4 button');\n",
              "      quickchartButtonEl.style.display =\n",
              "        google.colab.kernel.accessAllowed ? 'block' : 'none';\n",
              "    })();\n",
              "  </script>\n",
              "</div>\n",
              "\n",
              "    </div>\n",
              "  </div>\n"
            ],
            "application/vnd.google.colaboratory.intrinsic+json": {
              "type": "dataframe",
              "summary": "{\n  \"name\": \"df1\",\n  \"rows\": 5,\n  \"fields\": [\n    {\n      \"column\": \"Temperature (degC)\",\n      \"properties\": {\n        \"dtype\": \"number\",\n        \"std\": 0.7945421256704375,\n        \"min\": 302.1457286432161,\n        \"max\": 304.15577889447235,\n        \"num_unique_values\": 5,\n        \"samples\": [\n          302.64824120603015,\n          304.15577889447235,\n          303.1507537688442\n        ],\n        \"semantic_type\": \"\",\n        \"description\": \"\"\n      }\n    },\n    {\n      \"column\": \"VaP (Pa)\",\n      \"properties\": {\n        \"dtype\": \"number\",\n        \"std\": 192.56714654436274,\n        \"min\": 4140.220769886162,\n        \"max\": 4627.355268185469,\n        \"num_unique_values\": 5,\n        \"samples\": [\n          4257.562135805827,\n          4627.355268185469,\n          4377.823528282191\n        ],\n        \"semantic_type\": \"\",\n        \"description\": \"\"\n      }\n    },\n    {\n      \"column\": \"L (j/mol)\",\n      \"properties\": {\n        \"dtype\": \"number\",\n        \"std\": 67.66410255676934,\n        \"min\": 44612.92332698106,\n        \"max\": 44784.10138493737,\n        \"num_unique_values\": 5,\n        \"samples\": [\n          44741.03202370494,\n          44612.92332698106,\n          44698.1466633938\n        ],\n        \"semantic_type\": \"\",\n        \"description\": \"\"\n      }\n    }\n  ]\n}"
            }
          },
          "metadata": {},
          "execution_count": 7
        }
      ]
    },
    {
      "cell_type": "code",
      "source": [
        "fig, ax = plt.subplots()\n",
        "ax.scatter(df['Temperature (degC)'],df['VaP (bar)']*100000)\n",
        "t_fit = np.linspace(0, 100, 200)\n",
        "ax.plot(t_fit, p_fit)\n",
        "ax.set_xlabel('Temperature (degC)')\n",
        "ax.set_ylabel('Pressure (Pa)')\n",
        "ax.set_ylim(0,8000)\n",
        "ax.set_xlim(0,40);"
      ],
      "metadata": {
        "colab": {
          "base_uri": "https://localhost:8080/",
          "height": 455
        },
        "id": "s6dvmTe-nWoX",
        "outputId": "5aa364dd-88e6-4845-8f6c-85bf5dfaaf85"
      },
      "execution_count": 8,
      "outputs": [
        {
          "output_type": "display_data",
          "data": {
            "text/plain": [
              "<Figure size 640x480 with 1 Axes>"
            ],
            "image/png": "[encoded data removed]"
          },
          "metadata": {}
        }
      ]
    }
  ]
}