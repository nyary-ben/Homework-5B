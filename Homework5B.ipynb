{
  "nbformat": 4,
  "nbformat_minor": 0,
  "metadata": {
    "colab": {
      "provenance": [],
      "authorship_tag": "ABX9TyMwbJdeg1+EC/DchKnIBc6S",
      "include_colab_link": true
    },
    "kernelspec": {
      "name": "python3",
      "display_name": "Python 3"
    },
    "language_info": {
      "name": "python"
    }
  },
  "cells": [
    {
      "cell_type": "markdown",
      "metadata": {
        "id": "view-in-github",
        "colab_type": "text"
      },
      "source": [
        "<a href=\"https://colab.research.google.com/github/nyary-ben/Homework-5B/blob/main/Homework5B.ipynb\" target=\"_parent\"><img src=\"https://colab.research.google.com/assets/colab-badge.svg\" alt=\"Open In Colab\"/></a>"
      ]
    },
    {
      "cell_type": "code",
      "execution_count": 1,
      "metadata": {
        "id": "HeUVfk1MVTBu"
      },
      "outputs": [],
      "source": [
        "!pip install whit-phys-util 1>/dev/null"
      ]
    },
    {
      "cell_type": "code",
      "source": [
        "import numpy as np\n",
        "import scipy.constants\n",
        "import math\n",
        "import pandas as pd\n",
        "import matplotlib.pyplot as plt\n",
        "import whit_phys_util as buc\n",
        "from scipy.special import comb"
      ],
      "metadata": {
        "id": "SfDRFopdVdmZ"
      },
      "execution_count": 29,
      "outputs": []
    },
    {
      "cell_type": "code",
      "source": [
        "repo = buc.local_repository(\"https://github.com/nyary-ben/Homework-5B\")"
      ],
      "metadata": {
        "colab": {
          "base_uri": "https://localhost:8080/"
        },
        "id": "rLmDMqsxVems",
        "outputId": "a54ab013-720e-4f6d-fb20-38a3ad241b4f"
      },
      "execution_count": 11,
      "outputs": [
        {
          "output_type": "stream",
          "name": "stdout",
          "text": [
            "Repository exists at this location. Pulling changes from GitHub.\n"
          ]
        }
      ]
    },
    {
      "cell_type": "markdown",
      "source": [
        "# Homework 5B 5.42a)"
      ],
      "metadata": {
        "id": "MZ1LojMoVuNK"
      }
    },
    {
      "cell_type": "markdown",
      "source": [
        "\n",
        "* We know that $\\frac{dP}{dT} = \\frac{LP}{RT^2}$\n",
        "* As we rearrange for all T on one side and P on the other, we can integrate both sides and get $\\ln{P} = -\\frac{L}{R}(\\frac{1}{273K} - \\frac{1}{40+273K})$\n",
        "* We know that it $T_i = 0$ degC or $273K$ and $T_f = 40$ degC or $313K$\n",
        "* So $P_f = e^{(\\frac{1}{313K})\\frac{L}{R}}$ and $P_i = e^{-(\\frac{1}{273K})\\frac{L}{R}}$\n",
        "* I have averaged the value of molar latent heat of the water to be from the value at T = 0.01 degC, T = 25 degC, and T = 50 degC"
      ],
      "metadata": {
        "id": "3Nu645saWZ9Q"
      }
    },
    {
      "cell_type": "code",
      "source": [
        "L = (45.05+43.99+42.92)/(3*1000) #J/mol\n",
        "Tinv_i = ((1/273)) #1/K\n",
        "Tinv_f = ((1/313)) #1/K\n",
        "P_i = np.e**(-L*Tinv_i/scipy.constants.R) #Pa/K\n",
        "P_f = np.e**(L*Tinv_f/scipy.constants.R) #Pa/K\n",
        "P = [P_i, P_f]\n",
        "T = [(1/Tinv_i)-273, (1/Tinv_f)-273]\n",
        "print(P_f-P_i)"
      ],
      "metadata": {
        "colab": {
          "base_uri": "https://localhost:8080/"
        },
        "id": "uG-LLw9jV0Yu",
        "outputId": "2656f558-cfb7-47ed-91a2-a5d37c161dfe"
      },
      "execution_count": 121,
      "outputs": [
        {
          "output_type": "stream",
          "name": "stdout",
          "text": [
            "3.628080885520468e-05\n"
          ]
        }
      ]
    },
    {
      "cell_type": "code",
      "source": [
        "fig, ax = plt.subplots();\n",
        "ax.scatter(T,P)\n"
      ],
      "metadata": {
        "colab": {
          "base_uri": "https://localhost:8080/",
          "height": 463
        },
        "id": "lOzMouhqr2Ou",
        "outputId": "2dcedfdc-d486-40e2-84cb-72ee26049b5d"
      },
      "execution_count": 114,
      "outputs": [
        {
          "output_type": "execute_result",
          "data": {
            "text/plain": [
              "<matplotlib.collections.PathCollection at 0x7dda1cf64150>"
            ]
          },
          "metadata": {},
          "execution_count": 114
        },
        {
          "output_type": "display_data",
          "data": {
            "text/plain": [
              "<Figure size 640x480 with 1 Axes>"
            ],
            "image/png": "[encoded data removed]"
          },
          "metadata": {}
        }
      ]
    }
  ]
}